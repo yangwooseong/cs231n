{
 "cells": [
  {
   "cell_type": "markdown",
   "metadata": {},
   "source": [
    "# Image features exercise\n",
    "*Complete and hand in this completed worksheet (including its outputs and any supporting code outside of the worksheet) with your assignment submission. For more details see the [assignments page](http://vision.stanford.edu/teaching/cs231n/assignments.html) on the course website.*\n",
    "\n",
    "We have seen that we can achieve reasonable performance on an image classification task by training a linear classifier on the pixels of the input image. In this exercise we will show that we can improve our classification performance by training linear classifiers not on raw pixels but on features that are computed from the raw pixels.\n",
    "\n",
    "All of your work for this exercise will be done in this notebook."
   ]
  },
  {
   "cell_type": "code",
   "execution_count": 1,
   "metadata": {
    "collapsed": true
   },
   "outputs": [],
   "source": [
    "import random\n",
    "import numpy as np\n",
    "from cs231n.data_utils import load_CIFAR10\n",
    "import matplotlib.pyplot as plt\n",
    "\n",
    "from __future__ import print_function\n",
    "\n",
    "%matplotlib inline\n",
    "plt.rcParams['figure.figsize'] = (10.0, 8.0) # set default size of plots\n",
    "plt.rcParams['image.interpolation'] = 'nearest'\n",
    "plt.rcParams['image.cmap'] = 'gray'\n",
    "\n",
    "# for auto-reloading extenrnal modules\n",
    "# see http://stackoverflow.com/questions/1907993/autoreload-of-modules-in-ipython\n",
    "%load_ext autoreload\n",
    "%autoreload 2"
   ]
  },
  {
   "cell_type": "markdown",
   "metadata": {},
   "source": [
    "## Load data\n",
    "Similar to previous exercises, we will load CIFAR-10 data from disk."
   ]
  },
  {
   "cell_type": "code",
   "execution_count": 2,
   "metadata": {
    "collapsed": true
   },
   "outputs": [],
   "source": [
    "from cs231n.features import color_histogram_hsv, hog_feature\n",
    "\n",
    "def get_CIFAR10_data(num_training=49000, num_validation=1000, num_test=1000):\n",
    "    # Load the raw CIFAR-10 data\n",
    "    cifar10_dir = 'cs231n/datasets/cifar-10-batches-py'\n",
    "    X_train, y_train, X_test, y_test = load_CIFAR10(cifar10_dir)\n",
    "    \n",
    "    # Subsample the data\n",
    "    mask = list(range(num_training, num_training + num_validation))\n",
    "    X_val = X_train[mask]\n",
    "    y_val = y_train[mask]\n",
    "    mask = list(range(num_training))\n",
    "    X_train = X_train[mask]\n",
    "    y_train = y_train[mask]\n",
    "    mask = list(range(num_test))\n",
    "    X_test = X_test[mask]\n",
    "    y_test = y_test[mask]\n",
    "    \n",
    "    return X_train, y_train, X_val, y_val, X_test, y_test\n",
    "\n",
    "X_train, y_train, X_val, y_val, X_test, y_test = get_CIFAR10_data()"
   ]
  },
  {
   "cell_type": "markdown",
   "metadata": {},
   "source": [
    "## Extract Features\n",
    "For each image we will compute a Histogram of Oriented\n",
    "Gradients (HOG) as well as a color histogram using the hue channel in HSV\n",
    "color space. We form our final feature vector for each image by concatenating\n",
    "the HOG and color histogram feature vectors.\n",
    "\n",
    "Roughly speaking, HOG should capture the texture of the image while ignoring\n",
    "color information, and the color histogram represents the color of the input\n",
    "image while ignoring texture. As a result, we expect that using both together\n",
    "ought to work better than using either alone. Verifying this assumption would\n",
    "be a good thing to try for the bonus section.\n",
    "\n",
    "The `hog_feature` and `color_histogram_hsv` functions both operate on a single\n",
    "image and return a feature vector for that image. The extract_features\n",
    "function takes a set of images and a list of feature functions and evaluates\n",
    "each feature function on each image, storing the results in a matrix where\n",
    "each column is the concatenation of all feature vectors for a single image."
   ]
  },
  {
   "cell_type": "code",
   "execution_count": 3,
   "metadata": {},
   "outputs": [
    {
     "name": "stdout",
     "output_type": "stream",
     "text": [
      "Done extracting features for 1000 / 49000 images\n",
      "Done extracting features for 2000 / 49000 images\n",
      "Done extracting features for 3000 / 49000 images\n",
      "Done extracting features for 4000 / 49000 images\n",
      "Done extracting features for 5000 / 49000 images\n",
      "Done extracting features for 6000 / 49000 images\n",
      "Done extracting features for 7000 / 49000 images\n",
      "Done extracting features for 8000 / 49000 images\n",
      "Done extracting features for 9000 / 49000 images\n",
      "Done extracting features for 10000 / 49000 images\n",
      "Done extracting features for 11000 / 49000 images\n",
      "Done extracting features for 12000 / 49000 images\n",
      "Done extracting features for 13000 / 49000 images\n",
      "Done extracting features for 14000 / 49000 images\n",
      "Done extracting features for 15000 / 49000 images\n",
      "Done extracting features for 16000 / 49000 images\n",
      "Done extracting features for 17000 / 49000 images\n",
      "Done extracting features for 18000 / 49000 images\n",
      "Done extracting features for 19000 / 49000 images\n",
      "Done extracting features for 20000 / 49000 images\n",
      "Done extracting features for 21000 / 49000 images\n",
      "Done extracting features for 22000 / 49000 images\n",
      "Done extracting features for 23000 / 49000 images\n",
      "Done extracting features for 24000 / 49000 images\n",
      "Done extracting features for 25000 / 49000 images\n",
      "Done extracting features for 26000 / 49000 images\n",
      "Done extracting features for 27000 / 49000 images\n",
      "Done extracting features for 28000 / 49000 images\n",
      "Done extracting features for 29000 / 49000 images\n",
      "Done extracting features for 30000 / 49000 images\n",
      "Done extracting features for 31000 / 49000 images\n",
      "Done extracting features for 32000 / 49000 images\n",
      "Done extracting features for 33000 / 49000 images\n",
      "Done extracting features for 34000 / 49000 images\n",
      "Done extracting features for 35000 / 49000 images\n",
      "Done extracting features for 36000 / 49000 images\n",
      "Done extracting features for 37000 / 49000 images\n",
      "Done extracting features for 38000 / 49000 images\n",
      "Done extracting features for 39000 / 49000 images\n",
      "Done extracting features for 40000 / 49000 images\n",
      "Done extracting features for 41000 / 49000 images\n",
      "Done extracting features for 42000 / 49000 images\n",
      "Done extracting features for 43000 / 49000 images\n",
      "Done extracting features for 44000 / 49000 images\n",
      "Done extracting features for 45000 / 49000 images\n",
      "Done extracting features for 46000 / 49000 images\n",
      "Done extracting features for 47000 / 49000 images\n",
      "Done extracting features for 48000 / 49000 images\n"
     ]
    }
   ],
   "source": [
    "from cs231n.features import *\n",
    "\n",
    "num_color_bins = 10 # Number of bins in the color histogram\n",
    "feature_fns = [hog_feature, lambda img: color_histogram_hsv(img, nbin=num_color_bins)]\n",
    "X_train_feats = extract_features(X_train, feature_fns, verbose=True)\n",
    "X_val_feats = extract_features(X_val, feature_fns)\n",
    "X_test_feats = extract_features(X_test, feature_fns)\n",
    "\n",
    "# Preprocessing: Subtract the mean feature\n",
    "mean_feat = np.mean(X_train_feats, axis=0, keepdims=True)\n",
    "X_train_feats -= mean_feat\n",
    "X_val_feats -= mean_feat\n",
    "X_test_feats -= mean_feat\n",
    "\n",
    "# Preprocessing: Divide by standard deviation. This ensures that each feature\n",
    "# has roughly the same scale.\n",
    "std_feat = np.std(X_train_feats, axis=0, keepdims=True)\n",
    "X_train_feats /= std_feat\n",
    "X_val_feats /= std_feat\n",
    "X_test_feats /= std_feat\n",
    "\n",
    "# Preprocessing: Add a bias dimension\n",
    "X_train_feats = np.hstack([X_train_feats, np.ones((X_train_feats.shape[0], 1))])\n",
    "X_val_feats = np.hstack([X_val_feats, np.ones((X_val_feats.shape[0], 1))])\n",
    "X_test_feats = np.hstack([X_test_feats, np.ones((X_test_feats.shape[0], 1))])"
   ]
  },
  {
   "cell_type": "markdown",
   "metadata": {},
   "source": [
    "## Train SVM on features\n",
    "Using the multiclass SVM code developed earlier in the assignment, train SVMs on top of the features extracted above; this should achieve better results than training SVMs directly on top of raw pixels."
   ]
  },
  {
   "cell_type": "code",
   "execution_count": 4,
   "metadata": {},
   "outputs": [
    {
     "name": "stdout",
     "output_type": "stream",
     "text": [
      "lr 1.584893e-04 reg 3.162278e+00 train accuracy: 0.455143 val accuracy: 0.447000\n",
      "lr 1.584893e-04 reg 5.011872e+00 train accuracy: 0.446776 val accuracy: 0.444000\n",
      "lr 1.584893e-04 reg 7.943282e+00 train accuracy: 0.438653 val accuracy: 0.437000\n",
      "lr 1.584893e-04 reg 1.258925e+01 train accuracy: 0.426122 val accuracy: 0.432000\n",
      "lr 1.584893e-04 reg 1.995262e+01 train accuracy: 0.414898 val accuracy: 0.412000\n",
      "lr 2.511886e-04 reg 3.162278e+00 train accuracy: 0.459816 val accuracy: 0.452000\n",
      "lr 2.511886e-04 reg 5.011872e+00 train accuracy: 0.451653 val accuracy: 0.445000\n",
      "lr 2.511886e-04 reg 7.943282e+00 train accuracy: 0.437776 val accuracy: 0.440000\n",
      "lr 2.511886e-04 reg 1.258925e+01 train accuracy: 0.424531 val accuracy: 0.426000\n",
      "lr 2.511886e-04 reg 1.995262e+01 train accuracy: 0.416857 val accuracy: 0.417000\n",
      "lr 3.981072e-04 reg 3.162278e+00 train accuracy: 0.459878 val accuracy: 0.449000\n",
      "lr 3.981072e-04 reg 5.011872e+00 train accuracy: 0.450143 val accuracy: 0.446000\n",
      "lr 3.981072e-04 reg 7.943282e+00 train accuracy: 0.439939 val accuracy: 0.443000\n",
      "lr 3.981072e-04 reg 1.258925e+01 train accuracy: 0.422878 val accuracy: 0.427000\n",
      "lr 3.981072e-04 reg 1.995262e+01 train accuracy: 0.416531 val accuracy: 0.421000\n",
      "lr 6.309573e-04 reg 3.162278e+00 train accuracy: 0.460469 val accuracy: 0.452000\n",
      "lr 6.309573e-04 reg 5.011872e+00 train accuracy: 0.450224 val accuracy: 0.450000\n",
      "lr 6.309573e-04 reg 7.943282e+00 train accuracy: 0.437694 val accuracy: 0.436000\n",
      "lr 6.309573e-04 reg 1.258925e+01 train accuracy: 0.421469 val accuracy: 0.417000\n",
      "lr 6.309573e-04 reg 1.995262e+01 train accuracy: 0.413653 val accuracy: 0.423000\n",
      "lr 1.000000e-03 reg 3.162278e+00 train accuracy: 0.461551 val accuracy: 0.456000\n",
      "lr 1.000000e-03 reg 5.011872e+00 train accuracy: 0.450286 val accuracy: 0.448000\n",
      "lr 1.000000e-03 reg 7.943282e+00 train accuracy: 0.436918 val accuracy: 0.444000\n",
      "lr 1.000000e-03 reg 1.258925e+01 train accuracy: 0.421306 val accuracy: 0.427000\n",
      "lr 1.000000e-03 reg 1.995262e+01 train accuracy: 0.410245 val accuracy: 0.401000\n",
      "lr 1.584893e-03 reg 3.162278e+00 train accuracy: 0.456857 val accuracy: 0.450000\n",
      "lr 1.584893e-03 reg 5.011872e+00 train accuracy: 0.449980 val accuracy: 0.449000\n",
      "lr 1.584893e-03 reg 7.943282e+00 train accuracy: 0.432510 val accuracy: 0.432000\n",
      "lr 1.584893e-03 reg 1.258925e+01 train accuracy: 0.424429 val accuracy: 0.437000\n",
      "lr 1.584893e-03 reg 1.995262e+01 train accuracy: 0.416959 val accuracy: 0.422000\n",
      "lr 2.511886e-03 reg 3.162278e+00 train accuracy: 0.457367 val accuracy: 0.450000\n",
      "lr 2.511886e-03 reg 5.011872e+00 train accuracy: 0.445551 val accuracy: 0.435000\n",
      "lr 2.511886e-03 reg 7.943282e+00 train accuracy: 0.429816 val accuracy: 0.434000\n",
      "lr 2.511886e-03 reg 1.258925e+01 train accuracy: 0.415102 val accuracy: 0.420000\n",
      "lr 2.511886e-03 reg 1.995262e+01 train accuracy: 0.404163 val accuracy: 0.393000\n",
      "lr 3.981072e-03 reg 3.162278e+00 train accuracy: 0.455102 val accuracy: 0.441000\n",
      "lr 3.981072e-03 reg 5.011872e+00 train accuracy: 0.445286 val accuracy: 0.445000\n",
      "lr 3.981072e-03 reg 7.943282e+00 train accuracy: 0.430776 val accuracy: 0.433000\n",
      "lr 3.981072e-03 reg 1.258925e+01 train accuracy: 0.413061 val accuracy: 0.400000\n",
      "lr 3.981072e-03 reg 1.995262e+01 train accuracy: 0.408143 val accuracy: 0.409000\n",
      "lr 6.309573e-03 reg 3.162278e+00 train accuracy: 0.453286 val accuracy: 0.464000\n",
      "lr 6.309573e-03 reg 5.011872e+00 train accuracy: 0.443122 val accuracy: 0.446000\n",
      "lr 6.309573e-03 reg 7.943282e+00 train accuracy: 0.428163 val accuracy: 0.423000\n",
      "lr 6.309573e-03 reg 1.258925e+01 train accuracy: 0.403714 val accuracy: 0.391000\n",
      "lr 6.309573e-03 reg 1.995262e+01 train accuracy: 0.396082 val accuracy: 0.408000\n",
      "lr 1.000000e-02 reg 3.162278e+00 train accuracy: 0.446367 val accuracy: 0.435000\n",
      "lr 1.000000e-02 reg 5.011872e+00 train accuracy: 0.440592 val accuracy: 0.447000\n",
      "lr 1.000000e-02 reg 7.943282e+00 train accuracy: 0.413837 val accuracy: 0.387000\n",
      "lr 1.000000e-02 reg 1.258925e+01 train accuracy: 0.408429 val accuracy: 0.409000\n",
      "lr 1.000000e-02 reg 1.995262e+01 train accuracy: 0.376490 val accuracy: 0.382000\n",
      "best validation accuracy achieved during cross-validation: 0.464000\n"
     ]
    }
   ],
   "source": [
    "# Use the validation set to tune the learning rate and regularization strength\n",
    "\n",
    "from cs231n.classifiers.linear_classifier import LinearSVM\n",
    "\n",
    "learning_rates = [10**(-f) for f in np.arange(2,4,0.2)]\n",
    "regularization_strengths = [10**(f) for f in np.arange(.5,1.5,.2)]\n",
    "\n",
    "results = {}\n",
    "best_val = -1\n",
    "best_svm = None\n",
    "\n",
    "pass\n",
    "################################################################################\n",
    "# TODO:                                                                        #\n",
    "# Use the validation set to set the learning rate and regularization strength. #\n",
    "# This should be identical to the validation that you did for the SVM; save    #\n",
    "# the best trained classifer in best_svm. You might also want to play          #\n",
    "# with different numbers of bins in the color histogram. If you are careful    #\n",
    "# you should be able to get accuracy of near 0.44 on the validation set.       #\n",
    "################################################################################\n",
    "for learning_rate in learning_rates:\n",
    "    for regularization_strength in regularization_strengths:\n",
    "        svm_tuning = LinearSVM()\n",
    "        svm_tuning.train(X_train_feats, y_train, learning_rate=learning_rate, reg=regularization_strength,\n",
    "                      num_iters=1500, verbose=False)\n",
    "        # train accuracy\n",
    "        y_pred_train = svm_tuning.predict(X_train_feats)\n",
    "        train_score = np.mean(y_pred_train == y_train)\n",
    "        \n",
    "        # validation acurracy\n",
    "        y_pred_val = svm_tuning.predict(X_val_feats)\n",
    "        val_score = np.mean(y_pred_val == y_val)\n",
    "        \n",
    "        # save in dictionary\n",
    "        results[(learning_rate, regularization_strength)] = (train_score, val_score)\n",
    "        \n",
    "        if best_val < val_score:\n",
    "            best_val = val_score\n",
    "            best_svm = svm_tuning\n",
    "pass\n",
    "################################################################################\n",
    "#                              END OF YOUR CODE                                #\n",
    "################################################################################\n",
    "\n",
    "# Print out results.\n",
    "for lr, reg in sorted(results):\n",
    "    train_accuracy, val_accuracy = results[(lr, reg)]\n",
    "    print('lr %e reg %e train accuracy: %f val accuracy: %f' % (\n",
    "                lr, reg, train_accuracy, val_accuracy))\n",
    "    \n",
    "print('best validation accuracy achieved during cross-validation: %f' % best_val)"
   ]
  },
  {
   "cell_type": "code",
   "execution_count": 5,
   "metadata": {},
   "outputs": [
    {
     "name": "stdout",
     "output_type": "stream",
     "text": [
      "0.458\n"
     ]
    }
   ],
   "source": [
    "# Evaluate your trained SVM on the test set\n",
    "y_test_pred = best_svm.predict(X_test_feats)\n",
    "test_accuracy = np.mean(y_test == y_test_pred)\n",
    "print(test_accuracy)"
   ]
  },
  {
   "cell_type": "code",
   "execution_count": 4,
   "metadata": {},
   "outputs": [
    {
     "ename": "NameError",
     "evalue": "name 'y_test_pred' is not defined",
     "output_type": "error",
     "traceback": [
      "\u001b[0;31m---------------------------------------------------------------------------\u001b[0m",
      "\u001b[0;31mNameError\u001b[0m                                 Traceback (most recent call last)",
      "\u001b[0;32m<ipython-input-4-5402e51612ec>\u001b[0m in \u001b[0;36m<module>\u001b[0;34m()\u001b[0m\n\u001b[1;32m      8\u001b[0m \u001b[0mclasses\u001b[0m \u001b[0;34m=\u001b[0m \u001b[0;34m[\u001b[0m\u001b[0;34m'plane'\u001b[0m\u001b[0;34m,\u001b[0m \u001b[0;34m'car'\u001b[0m\u001b[0;34m,\u001b[0m \u001b[0;34m'bird'\u001b[0m\u001b[0;34m,\u001b[0m \u001b[0;34m'cat'\u001b[0m\u001b[0;34m,\u001b[0m \u001b[0;34m'deer'\u001b[0m\u001b[0;34m,\u001b[0m \u001b[0;34m'dog'\u001b[0m\u001b[0;34m,\u001b[0m \u001b[0;34m'frog'\u001b[0m\u001b[0;34m,\u001b[0m \u001b[0;34m'horse'\u001b[0m\u001b[0;34m,\u001b[0m \u001b[0;34m'ship'\u001b[0m\u001b[0;34m,\u001b[0m \u001b[0;34m'truck'\u001b[0m\u001b[0;34m]\u001b[0m\u001b[0;34m\u001b[0m\u001b[0m\n\u001b[1;32m      9\u001b[0m \u001b[0;32mfor\u001b[0m \u001b[0mcls\u001b[0m\u001b[0;34m,\u001b[0m \u001b[0mcls_name\u001b[0m \u001b[0;32min\u001b[0m \u001b[0menumerate\u001b[0m\u001b[0;34m(\u001b[0m\u001b[0mclasses\u001b[0m\u001b[0;34m)\u001b[0m\u001b[0;34m:\u001b[0m\u001b[0;34m\u001b[0m\u001b[0m\n\u001b[0;32m---> 10\u001b[0;31m     \u001b[0midxs\u001b[0m \u001b[0;34m=\u001b[0m \u001b[0mnp\u001b[0m\u001b[0;34m.\u001b[0m\u001b[0mwhere\u001b[0m\u001b[0;34m(\u001b[0m\u001b[0;34m(\u001b[0m\u001b[0my_test\u001b[0m \u001b[0;34m!=\u001b[0m \u001b[0mcls\u001b[0m\u001b[0;34m)\u001b[0m \u001b[0;34m&\u001b[0m \u001b[0;34m(\u001b[0m\u001b[0my_test_pred\u001b[0m \u001b[0;34m==\u001b[0m \u001b[0mcls\u001b[0m\u001b[0;34m)\u001b[0m\u001b[0;34m)\u001b[0m\u001b[0;34m[\u001b[0m\u001b[0;36m0\u001b[0m\u001b[0;34m]\u001b[0m\u001b[0;34m\u001b[0m\u001b[0m\n\u001b[0m\u001b[1;32m     11\u001b[0m     \u001b[0midxs\u001b[0m \u001b[0;34m=\u001b[0m \u001b[0mnp\u001b[0m\u001b[0;34m.\u001b[0m\u001b[0mrandom\u001b[0m\u001b[0;34m.\u001b[0m\u001b[0mchoice\u001b[0m\u001b[0;34m(\u001b[0m\u001b[0midxs\u001b[0m\u001b[0;34m,\u001b[0m \u001b[0mexamples_per_class\u001b[0m\u001b[0;34m,\u001b[0m \u001b[0mreplace\u001b[0m\u001b[0;34m=\u001b[0m\u001b[0;32mFalse\u001b[0m\u001b[0;34m)\u001b[0m\u001b[0;34m\u001b[0m\u001b[0m\n\u001b[1;32m     12\u001b[0m     \u001b[0;32mfor\u001b[0m \u001b[0mi\u001b[0m\u001b[0;34m,\u001b[0m \u001b[0midx\u001b[0m \u001b[0;32min\u001b[0m \u001b[0menumerate\u001b[0m\u001b[0;34m(\u001b[0m\u001b[0midxs\u001b[0m\u001b[0;34m)\u001b[0m\u001b[0;34m:\u001b[0m\u001b[0;34m\u001b[0m\u001b[0m\n",
      "\u001b[0;31mNameError\u001b[0m: name 'y_test_pred' is not defined"
     ]
    }
   ],
   "source": [
    "# An important way to gain intuition about how an algorithm works is to\n",
    "# visualize the mistakes that it makes. In this visualization, we show examples\n",
    "# of images that are misclassified by our current system. The first column\n",
    "# shows images that our system labeled as \"plane\" but whose true label is\n",
    "# something other than \"plane\".\n",
    "\n",
    "examples_per_class = 8\n",
    "classes = ['plane', 'car', 'bird', 'cat', 'deer', 'dog', 'frog', 'horse', 'ship', 'truck']\n",
    "for cls, cls_name in enumerate(classes):\n",
    "    idxs = np.where((y_test != cls) & (y_test_pred == cls))[0]\n",
    "    idxs = np.random.choice(idxs, examples_per_class, replace=False)\n",
    "    for i, idx in enumerate(idxs):\n",
    "        plt.subplot(examples_per_class, len(classes), i * len(classes) + cls + 1)\n",
    "        plt.imshow(X_test[idx].astype('uint8'))\n",
    "        plt.axis('off')\n",
    "        if i == 0:\n",
    "            plt.title(cls_name)\n",
    "plt.show()"
   ]
  },
  {
   "cell_type": "markdown",
   "metadata": {},
   "source": [
    "### Inline question 1:\n",
    "Describe the misclassification results that you see. Do they make sense?"
   ]
  },
  {
   "cell_type": "markdown",
   "metadata": {},
   "source": [
    "## Neural Network on image features\n",
    "Earlier in this assigment we saw that training a two-layer neural network on raw pixels achieved better classification performance than linear classifiers on raw pixels. In this notebook we have seen that linear classifiers on image features outperform linear classifiers on raw pixels. \n",
    "\n",
    "For completeness, we should also try training a neural network on image features. This approach should outperform all previous approaches: you should easily be able to achieve over 55% classification accuracy on the test set; our best model achieves about 60% classification accuracy."
   ]
  },
  {
   "cell_type": "code",
   "execution_count": 5,
   "metadata": {},
   "outputs": [
    {
     "name": "stdout",
     "output_type": "stream",
     "text": [
      "(49000, 155)\n"
     ]
    }
   ],
   "source": [
    "print(X_train_feats.shape)"
   ]
  },
  {
   "cell_type": "code",
   "execution_count": 22,
   "metadata": {},
   "outputs": [
    {
     "name": "stdout",
     "output_type": "stream",
     "text": [
      "best validation accuracy:  0.504\n",
      "best validation accuracy:  0.506\n",
      "best validation accuracy:  0.513\n",
      "best validation accuracy:  0.524\n",
      "lr 3.548134e-01 reg 1.000000e-02 training accuray: 0.529796 val accuracy: 0.524000\n",
      "lr 4.168694e-01 reg 1.000000e-02 training accuray: 0.525714 val accuracy: 0.503000\n",
      "lr 4.897788e-01 reg 1.000000e-02 training accuray: 0.531061 val accuracy: 0.513000\n",
      "lr 5.754399e-01 reg 1.000000e-02 training accuray: 0.526020 val accuracy: 0.506000\n",
      "lr 6.760830e-01 reg 1.000000e-02 training accuray: 0.521878 val accuracy: 0.506000\n",
      "lr 7.943282e-01 reg 1.000000e-02 training accuray: 0.518837 val accuracy: 0.504000\n",
      "best validation accuracy achieved during cross-validation: 0.524000\n"
     ]
    }
   ],
   "source": [
    "from cs231n.classifiers.neural_net import TwoLayerNet\n",
    "\n",
    "input_dim = X_train_feats.shape[1]\n",
    "hidden_dim = 500\n",
    "num_classes = 10\n",
    "\n",
    "best_net = None\n",
    "\n",
    "################################################################################\n",
    "# TODO: Train a two-layer neural network on image features. You may want to    #\n",
    "# cross-validate various parameters as in previous sections. Store your best   #\n",
    "# model in the best_net variable.                                              #\n",
    "################################################################################\n",
    "regs = [10**(-2)]\n",
    "\n",
    "best_acc = 0\n",
    "results = {}\n",
    "for count in range(15):\n",
    "    learning_rate = uniform(0.1, 0.5)\n",
    "    reg = uniform(0.001, 0.1)\n",
    "    net = TwoLayerNet(input_dim, hidden_dim, num_classes)\n",
    "\n",
    "    # Train the network\n",
    "    stats = net.train(X_train_feats, y_train, X_val_feats, y_val,\n",
    "    num_iters=2000, batch_size=200,\n",
    "    learning_rate=learning_rate, learning_rate_decay=0.9,\n",
    "    reg=reg, verbose=False)\n",
    "\n",
    "    # train accuracy\n",
    "    train_acc = np.mean(net.predict(X_train_feats) == y_train)\n",
    "\n",
    "    # Predict on the validation set\n",
    "    val_acc = np.mean(net.predict(X_val_feats) == y_val)\n",
    "\n",
    "    # save in dictionary\n",
    "    results[(learning_rate, reg)] = (train_acc, val_acc)\n",
    "\n",
    "    if best_acc < val_acc:\n",
    "        best_net = net\n",
    "        best_acc = val_acc\n",
    "        print('best validation accuracy: ', best_acc)\n",
    "# Print out results.\n",
    "for lr, reg in sorted(results):\n",
    "    print('lr %e reg %e training accuray: %f val accuracy: %f' % (\n",
    "                lr, reg, results[(lr, reg)][0], results[(lr, reg)][1]))\n",
    "    \n",
    "print('best validation accuracy achieved during cross-validation: %f' % best_acc)\n",
    "pass\n",
    "################################################################################\n",
    "#                              END OF YOUR CODE                                #\n",
    "################################################################################"
   ]
  },
  {
   "cell_type": "code",
   "execution_count": 24,
   "metadata": {},
   "outputs": [
    {
     "name": "stdout",
     "output_type": "stream",
     "text": [
      "0.515\n"
     ]
    }
   ],
   "source": [
    "# Run your neural net classifier on the test set. You should be able to\n",
    "# get more than 55% accuracy.\n",
    "\n",
    "test_acc = (net.predict(X_test_feats) == y_test).mean()\n",
    "print(test_acc)"
   ]
  },
  {
   "cell_type": "markdown",
   "metadata": {},
   "source": [
    "# Bonus: Design your own features!\n",
    "\n",
    "You have seen that simple image features can improve classification performance. So far we have tried HOG and color histograms, but other types of features may be able to achieve even better classification performance.\n",
    "\n",
    "For bonus points, design and implement a new type of feature and use it for image classification on CIFAR-10. Explain how your feature works and why you expect it to be useful for image classification. Implement it in this notebook, cross-validate any hyperparameters, and compare its performance to the HOG + Color histogram baseline."
   ]
  },
  {
   "cell_type": "markdown",
   "metadata": {},
   "source": [
    "# Bonus: Do something extra!\n",
    "Use the material and code we have presented in this assignment to do something interesting. Was there another question we should have asked? Did any cool ideas pop into your head as you were working on the assignment? This is your chance to show off!"
   ]
  }
 ],
 "metadata": {
  "kernelspec": {
   "display_name": "Python 3",
   "language": "python",
   "name": "python3"
  },
  "language_info": {
   "codemirror_mode": {
    "name": "ipython",
    "version": 3
   },
   "file_extension": ".py",
   "mimetype": "text/x-python",
   "name": "python",
   "nbconvert_exporter": "python",
   "pygments_lexer": "ipython3",
   "version": "3.6.1"
  }
 },
 "nbformat": 4,
 "nbformat_minor": 1
}
